{
 "cells": [
  {
   "cell_type": "code",
   "execution_count": 5,
   "id": "b991e0ce",
   "metadata": {},
   "outputs": [],
   "source": [
    "from sklearn.cluster import KMeans\n",
    "import sklearn.datasets\n",
    "import matplotlib.pyplot as plt\n",
    "\n",
    "dataset = sklearn.datasets.load_iris(as_frame=True)\n",
    "\n",
    "X_all = (dataset\n",
    "     ['data']\n",
    ")\n",
    "y = dataset['target']"
   ]
  },
  {
   "cell_type": "code",
   "execution_count": 6,
   "id": "8d731ba1",
   "metadata": {},
   "outputs": [],
   "source": [
    "# run t-SNE on the Iris dataset\n",
    "from sklearn.manifold import TSNE\n",
    "tsne = TSNE(n_components=3, random_state=42)\n",
    "X_tsne = tsne.fit_transform(X_all)"
   ]
  },
  {
   "cell_type": "code",
   "execution_count": 7,
   "id": "6ce29dc1",
   "metadata": {},
   "outputs": [
    {
     "data": {
      "text/plain": [
       "array([[-26.441578  ,   8.101978  , -17.034464  ],\n",
       "       [-37.35222   ,  31.763765  ,  39.457577  ],\n",
       "       [-40.876156  ,  43.48512   ,   5.5611477 ],\n",
       "       [ -9.694673  ,  51.92524   ,  20.808022  ],\n",
       "       [-37.02988   ,  21.711248  , -27.54279   ],\n",
       "       [-62.68152   , -15.985557  , -27.621487  ],\n",
       "       [-19.73448   ,  44.04896   ,  -1.5641656 ],\n",
       "       [-33.922195  ,  20.60073   ,   2.4763052 ],\n",
       "       [-26.128523  ,  62.35667   ,  30.947485  ],\n",
       "       [-49.941383  ,  29.68316   ,  23.723543  ],\n",
       "       [-26.733156  ,  -6.227094  , -31.412027  ],\n",
       "       [ -1.7500525 ,  30.341347  ,  25.640745  ],\n",
       "       [-41.928806  ,  46.049572  ,  26.999426  ],\n",
       "       [-41.127087  ,  66.052734  ,  16.855614  ],\n",
       "       [-34.312122  , -30.639017  , -38.844093  ],\n",
       "       [-37.8007    , -15.450213  , -53.405876  ],\n",
       "       [-43.435116  , -14.151059  , -32.6585    ],\n",
       "       [-42.825573  ,  14.073746  , -11.495466  ],\n",
       "       [-49.20267   , -30.527136  , -21.905676  ],\n",
       "       [-41.030376  ,   6.668421  , -38.429546  ],\n",
       "       [-56.311085  , -15.293761  ,  -4.9437795 ],\n",
       "       [-50.144024  ,   1.3807194 , -22.984455  ],\n",
       "       [-33.341236  ,  48.135323  , -17.154633  ],\n",
       "       [-51.08372   ,  -8.056237  ,  15.360677  ],\n",
       "       [-60.887444  ,  10.472353  ,  24.26941   ],\n",
       "       [-37.50442   ,  14.351761  ,  32.06674   ],\n",
       "       [-42.657     ,   7.404289  ,  11.800549  ],\n",
       "       [-39.939068  ,  -3.6018293 ,  -8.874607  ],\n",
       "       [-56.28564   ,   6.305898  ,  -2.5784466 ],\n",
       "       [-15.205942  ,  34.67024   ,  14.946812  ],\n",
       "       [-19.621044  ,  21.416842  ,  30.076447  ],\n",
       "       [-38.218784  , -20.018559  ,  -0.08244719],\n",
       "       [-57.45773   ,  -3.7961159 , -45.38305   ],\n",
       "       [-53.498173  , -24.628521  , -45.632263  ],\n",
       "       [-32.51128   ,  28.807528  ,  19.47251   ],\n",
       "       [-14.314792  ,  19.030443  ,   3.363611  ],\n",
       "       [-28.583708  , -18.926348  , -16.977629  ],\n",
       "       [-48.308754  ,  31.703405  , -16.286818  ],\n",
       "       [-20.14719   ,  68.266655  ,  13.911515  ],\n",
       "       [-27.03838   ,   3.8236048 ,   0.9089422 ],\n",
       "       [-26.704826  ,  26.420387  , -13.378722  ],\n",
       "       [-36.03321   ,  55.245243  ,  47.408638  ],\n",
       "       [-31.06677   ,  61.035816  ,   0.16859835],\n",
       "       [-32.517437  ,  -6.557606  ,  17.99666   ],\n",
       "       [-70.942505  ,   1.683588  , -21.522478  ],\n",
       "       [-22.316788  ,  41.0813    ,  33.95503   ],\n",
       "       [-57.808727  ,  15.080803  , -32.334263  ],\n",
       "       [-27.036608  ,  48.794605  ,  15.191906  ],\n",
       "       [ 21.357193  ,  -9.678395  ,  63.76698   ],\n",
       "       [-51.12679   ,  25.307272  ,   3.9085832 ],\n",
       "       [ 20.3703    , -36.004345  , -42.262352  ],\n",
       "       [  6.941272  , -30.125418  , -11.179425  ],\n",
       "       [ 23.65455   , -18.366693  , -41.726105  ],\n",
       "       [ -4.3491845 , -63.92834   ,  53.85861   ],\n",
       "       [ 30.077696  , -35.188156  , -10.757427  ],\n",
       "       [ 19.839987  , -39.385654  ,  31.600523  ],\n",
       "       [ 13.011569  , -13.738514  ,  -8.807675  ],\n",
       "       [-39.17221   , -44.18207   ,  56.85191   ],\n",
       "       [ 28.900269  , -45.623608  , -25.272898  ],\n",
       "       [-20.546915  , -32.948868  ,  49.04466   ],\n",
       "       [-27.065325  , -56.953693  ,  64.93819   ],\n",
       "       [ -7.0257726 , -34.242325  ,   9.536171  ],\n",
       "       [ -3.0986938 , -79.66122   ,  35.587677  ],\n",
       "       [ 33.09817   , -30.164768  ,  14.882068  ],\n",
       "       [-30.64044   , -40.9087    ,  30.151493  ],\n",
       "       [  4.1120453 , -32.55083   , -31.084135  ],\n",
       "       [ 16.081158  , -19.66645   ,  33.341713  ],\n",
       "       [  9.601664  , -63.27183   ,  30.097483  ],\n",
       "       [ 51.746544  , -48.392967  ,   9.291362  ],\n",
       "       [-10.088836  , -61.53429   ,  36.605385  ],\n",
       "       [ 13.50368   ,  -0.8970917 ,  16.685272  ],\n",
       "       [ -7.3374023 , -54.55436   ,   3.9616206 ],\n",
       "       [ 50.124077  , -29.484905  ,  -2.0318356 ],\n",
       "       [ 27.607996  , -45.59353   ,  11.587752  ],\n",
       "       [ 19.986542  , -54.398136  ,  -8.321346  ],\n",
       "       [ 11.025877  , -45.615612  , -21.471306  ],\n",
       "       [ 37.54864   , -29.877113  , -31.758524  ],\n",
       "       [ 30.365784  ,  -9.848806  , -27.101524  ],\n",
       "       [ 68.512924  , -15.7048855 ,  24.967617  ],\n",
       "       [-30.813646  , -63.056126  ,  29.681477  ],\n",
       "       [-22.559828  , -52.681408  ,  45.267002  ],\n",
       "       [-22.840567  , -71.41239   ,  46.178738  ],\n",
       "       [-17.008734  , -50.693867  ,  21.431868  ],\n",
       "       [ 48.492386  , -14.401249  ,  14.3532715 ],\n",
       "       [ -0.22289266, -13.586872  ,  37.60721   ],\n",
       "       [  3.0137873 , -14.5864315 ,   6.869764  ],\n",
       "       [ 20.229254  , -25.937109  , -25.039595  ],\n",
       "       [ 42.303024  , -55.58647   ,  -0.69597507],\n",
       "       [-13.512696  , -29.154156  ,  29.284077  ],\n",
       "       [ -7.076344  , -45.956776  ,  55.827583  ],\n",
       "       [ 11.582339  , -50.045647  ,  45.911797  ],\n",
       "       [ 17.896505  , -29.28045   ,   6.853304  ],\n",
       "       [ -7.310174  , -66.844246  ,  19.469173  ],\n",
       "       [-40.635197  , -62.58194   ,  53.211506  ],\n",
       "       [ -5.248594  , -44.043667  ,  37.410507  ],\n",
       "       [  3.2340903 , -31.434376  ,  24.642412  ],\n",
       "       [  5.386259  , -32.056225  ,  43.04835   ],\n",
       "       [  9.37308   , -45.97384   ,   2.274255  ],\n",
       "       [-46.695126  , -50.489616  ,  41.482185  ],\n",
       "       [  1.942708  , -48.813374  ,  22.492348  ],\n",
       "       [ 28.03317   ,  57.1943    , -17.07523   ],\n",
       "       [ 46.255516  ,   3.389161  ,  21.915909  ],\n",
       "       [ 40.755344  ,  42.974056  , -55.82145   ],\n",
       "       [ 55.79546   ,  25.604277  ,  -7.399145  ],\n",
       "       [ 43.25874   ,  16.362144  , -39.167385  ],\n",
       "       [ 53.18969   ,  57.07544   , -43.74733   ],\n",
       "       [ -6.309707  , -19.573875  ,  58.518715  ],\n",
       "       [ 60.515026  ,  45.812317  , -58.02883   ],\n",
       "       [ 64.967865  ,  19.265093  , -28.503233  ],\n",
       "       [ 33.547707  ,  63.21413   , -40.90911   ],\n",
       "       [ 16.892754  ,   9.278147  , -14.279318  ],\n",
       "       [ 51.581917  ,   5.944927  , -16.052433  ],\n",
       "       [ 29.338614  ,  25.060791  , -29.968561  ],\n",
       "       [ 47.394684  ,  -6.4519095 ,  37.468853  ],\n",
       "       [ 41.07268   ,  18.200186  ,  35.222282  ],\n",
       "       [ 18.946806  ,  27.772041  , -10.659541  ],\n",
       "       [ 38.275852  ,  18.786955  ,  -8.783175  ],\n",
       "       [ 50.987713  ,  75.56178   , -38.87962   ],\n",
       "       [ 58.959915  ,  66.56207   , -58.093067  ],\n",
       "       [ 59.341003  , -31.561377  ,  13.926221  ],\n",
       "       [ 34.25097   ,  43.151608  , -35.477036  ],\n",
       "       [ 30.779728  ,   1.1567829 ,  35.002277  ],\n",
       "       [ 70.80626   ,  60.09452   , -45.001358  ],\n",
       "       [ 44.764526  ,  -5.0876026 ,  -1.5892731 ],\n",
       "       [ 30.693195  ,  27.637392  , -48.827477  ],\n",
       "       [ 51.836365  ,  37.3923    , -42.39137   ],\n",
       "       [ 33.7681    , -16.773352  ,  -0.24274841],\n",
       "       [ 26.464067  ,  -1.0216982 ,   2.7920356 ],\n",
       "       [ 47.474888  ,  25.117828  , -23.282185  ],\n",
       "       [ 56.246403  ,  26.467852  , -55.459694  ],\n",
       "       [ 69.98329   ,  38.545685  , -44.72166   ],\n",
       "       [ 52.505802  ,  65.44481   , -24.7377    ],\n",
       "       [ 39.815445  ,  38.137405  , -15.621917  ],\n",
       "       [ 47.428047  , -16.663025  , -15.583787  ],\n",
       "       [ 60.144417  ,  10.944353  ,   3.9610088 ],\n",
       "       [ 63.49957   ,  49.560024  , -29.815306  ],\n",
       "       [ 11.863653  ,  47.861313  , -12.105642  ],\n",
       "       [ 41.63778   ,  29.742865  ,   2.9859982 ],\n",
       "       [ 28.287352  , -10.205281  ,  16.956087  ],\n",
       "       [ 13.527453  ,  28.166813  , -42.22343   ],\n",
       "       [ 19.124847  ,  38.536564  , -26.97576   ],\n",
       "       [  5.719151  ,  21.904415  , -26.800074  ],\n",
       "       [ 46.255516  ,   3.389161  ,  21.915909  ],\n",
       "       [ 22.579319  ,  46.184464  , -48.92162   ],\n",
       "       [ 14.82511   ,  54.35013   , -33.201576  ],\n",
       "       [ 17.708097  ,  11.125694  , -34.53772   ],\n",
       "       [ 61.080086  , -11.122826  ,  -1.9498671 ],\n",
       "       [ 32.246243  ,   7.7989283 , -20.978582  ],\n",
       "       [ 23.197577  ,  41.765778  ,   0.42361212],\n",
       "       [ 29.355858  ,  10.716479  ,  16.273653  ]], dtype=float32)"
      ]
     },
     "execution_count": 7,
     "metadata": {},
     "output_type": "execute_result"
    }
   ],
   "source": [
    "X_tsne"
   ]
  },
  {
   "cell_type": "code",
   "execution_count": 9,
   "id": "286e57b3",
   "metadata": {},
   "outputs": [
    {
     "data": {
      "application/vnd.plotly.v1+json": {
       "config": {
        "plotlyServerURL": "https://plot.ly"
       },
       "data": [
        {
         "hovertemplate": "0=%{x}<br>1=%{y}<br>2=%{z}<br>color=%{marker.color}<extra></extra>",
         "legendgroup": "",
         "marker": {
          "color": {
           "bdata": "AAAAAAAAAAAAAAAAAAAAAAAAAAAAAAAAAAAAAAAAAAAAAAAAAAAAAAAAAAAAAAAAAAABAQEBAQEBAQEBAQEBAQEBAQEBAQEBAQEBAQEBAQEBAQEBAQEBAQEBAQEBAQEBAQEBAQICAgICAgICAgICAgICAgICAgICAgICAgICAgICAgICAgICAgICAgICAgICAgICAgIC",
           "dtype": "i1"
          },
          "coloraxis": "coloraxis",
          "symbol": "circle"
         },
         "mode": "markers",
         "name": "",
         "scene": "scene",
         "showlegend": false,
         "type": "scatter3d",
         "x": {
          "bdata": "WojTwaxoFcIvgSPCYR0bwZkeFMLguXrCN+CdwVSwB8I3B9HB+sNHwoHd1cG4AeC/GbcnwiOCJMKdPwnC6zMXwo+9LcJjTSvCic9EwhsfJMKNPmHCe5NIwm1dBcK7VUzCvoxzwocEFsLFoCrCm8Efwn8kYcKKS3PB5vecwQngGMK31GXCIf5Vwo0LAsJjCWXBb6vkwSo8QcJyLaHBmk7YwXyj1cECIhDCv4j4wdsRAsKQ4o3CyIiywSM8Z8L5StjBiNuqQdWBTMJg9qJB5h7eQIU8vUGFLIvAH5/wQUu4nkFjL1BBWLAcwsAz50EVYKTByYXYwSHT4MAAUUbAh2QEQp8f9cHglYNANqaAQWqgGUF2/E5C32shwRMPWEEAzOrADn9IQi3d3EFw5J9B/mkwQc8xFkIg7fJBngaJQlmC9sGHerTBe7m2weMRiME0+EFC+T1kvuThQECD1aFBTDYpQgE0WMFpceLAQ1E5QQssj0Hy7OnAcYoiwnv0p8BW+05APFysQCP4FUHPxzrCqKr4P+9D4EGmBTlCeQUjQo0uX0LzCC1CPsJUQh/pycBjD3JCjO+BQtowBkJcJIdB4lNOQnu16kEolD1CbUokQg+Tl0F5GhlCa/NLQvTWa0IwXW1C/gAJQuI89kHOnI1C4A4zQqqL9UFwWE9CiRIHQmm200FJ5j1CUfxgQnL3i0LxBVJCBEMfQlK2PULik3BCj/99QobRPUEWjSZCf0ziQXNwWEGw/5hBSQO3QKYFOUJyorRBpzNtQS+qjUECUnRCJ/wAQqOUuUHM2OpB",
          "dtype": "f4"
         },
         "y": {
          "bdata": "tKEBQTEc/kHD8C1CcrNPQqOwrUHXxH/BIzIwQkzOpEE7bXlCHXftQVtEx8AUu/JBwzI4QgAbhEK1HPXBEzR3wb1qYsEQLmFBkzf0wbRj1UA/s3TBaruwP5KKQEJZ5gDBwo4nQdCgZUHv7+xAX4RmwOvJyUBTrgpCsVWrQQImoMGQ83LANgfFwdF15kFZPphBKWmXwZOg/UGHiIhC8bV0QPRc00Eh+1xCrSR0QunX0cDQf9c/QFMkQvhKcUGtLUNCtdoawUt1ykFzBBDC2wDxwf3uksGftn/CrMAMwumKHcL00FvBcbowwpN+NsKkywPCldBjwiT4CMKLUp/CclHxwYKiI8INNALC5FSdwVsWfcJmkkHCHSN2ws2nZb+qN1rCFuHrwcZfNsKxl1nCY3Y2wlQE78G2lB3BNkd7wXk5fMLDuVLCJdOOwoXGSsKEa2bB1GNZwQZiacEzf8/BjFhewrY76cG90zfCvi5Iwl0+6sFBsIXC6FN6wrcsMMKaefvBkzkAwjblN8Je9UnC5UBDwvfGZEIE6FhAb+UrQo/VzEGs5YJBQE1kQkyXnMHQPzdC6R6aQUXbfEJKcxRB2Dy+QIB8yEELds7A+5mRQSQt3kGvS5ZBoh+XQsgfhUKzffzBP5ssQnYRlD/KYHBCpM2iwGEZ3UG3kRVC0y+GwQLHgr9Q8chBKb7TQcguGkK+44JCtIwYQuBNhcESHC9Bdz1GQvxxP0Jj8e1B1UgjwaJV4UFxJRpCPjyvQQToWEDkvDhCiGZZQtgCMkEY9zHB0pD5QCgQJ0KzditB",
          "dtype": "f4"
         },
         "z": {
          "bdata": "lUaIwY/UHULs9LFA1HamQaJX3MHO+NzBlDbIv8l7HkBzlPdB0cm9QdVL+8E/IM1B0/7XQUzYhkFaYBvCnp9Vwk6iAsJu7TfB0z6vwdu3GcJxM57AKuC3wbA8icFVxXVBwCfCQVdEAEIMzzxBZP4NwUUFJcAkJm9BkJzwQRLaqL0+iDXCcIc2wrPHm0FnRVdAL9KHwWdLgsGRlV5BcLBoPz8PVsFyoj1CDKUsPin5j0EJLqzB89EHQklWAcIMEnNBYxF/QjomekCmDCnC7d4ywYjnJsI3b1dCbB4swd/N/EE97AzBW2hjQuUuysG7LURCWuCBQiiUGEHIWQ5C8xxuQUI28UFPrPjB6l0FQqXH8EFrqRRB6msSQnB7hUExi31AmAkCwG9nOUE8JAXBPMWrwXUR/sHsz9jBrr3HQapz7UFpETVCB7c4Qnd0q0EAp2VByG0WQhvV20AXUcjBbCsyv8pF6kFyT19CrqU3QkRO20DewJtBldhUQlykFUKpI8VBgzEsQmWNEUDC7SVCVPCzQRKaiMHIU69BKklfwszF7MBnqxzCRP0uwioTakKGHWjCnwbkwe6iI8IWeGTBYmuAwZ2/78Eb4BVCnuMMQnuNKsHjhwzBu4Qbwk1faMLN0V5BfOgNwlUCDEJkATTCTW3Lv1ZPQ8LDkCnCCpN4vrawMkDqQbrButZdwvviMsLP5sXBX/N5wTFXecErgX1Av4XuwbawQcGYGj9AEaaHQcvkKMJbztfBjWbWwchTr0G9r0PCas4EwqAmCsI/lfm/I9SnwbDj2D5xMIJB",
          "dtype": "f4"
         }
        }
       ],
       "layout": {
        "coloraxis": {
         "colorbar": {
          "title": {
           "text": "color"
          }
         },
         "colorscale": [
          [
           0,
           "#0d0887"
          ],
          [
           0.1111111111111111,
           "#46039f"
          ],
          [
           0.2222222222222222,
           "#7201a8"
          ],
          [
           0.3333333333333333,
           "#9c179e"
          ],
          [
           0.4444444444444444,
           "#bd3786"
          ],
          [
           0.5555555555555556,
           "#d8576b"
          ],
          [
           0.6666666666666666,
           "#ed7953"
          ],
          [
           0.7777777777777778,
           "#fb9f3a"
          ],
          [
           0.8888888888888888,
           "#fdca26"
          ],
          [
           1,
           "#f0f921"
          ]
         ]
        },
        "legend": {
         "tracegroupgap": 0
        },
        "margin": {
         "t": 60
        },
        "scene": {
         "domain": {
          "x": [
           0,
           1
          ],
          "y": [
           0,
           1
          ]
         },
         "xaxis": {
          "title": {
           "text": "0"
          }
         },
         "yaxis": {
          "title": {
           "text": "1"
          }
         },
         "zaxis": {
          "title": {
           "text": "2"
          }
         }
        },
        "template": {
         "data": {
          "bar": [
           {
            "error_x": {
             "color": "#2a3f5f"
            },
            "error_y": {
             "color": "#2a3f5f"
            },
            "marker": {
             "line": {
              "color": "#E5ECF6",
              "width": 0.5
             },
             "pattern": {
              "fillmode": "overlay",
              "size": 10,
              "solidity": 0.2
             }
            },
            "type": "bar"
           }
          ],
          "barpolar": [
           {
            "marker": {
             "line": {
              "color": "#E5ECF6",
              "width": 0.5
             },
             "pattern": {
              "fillmode": "overlay",
              "size": 10,
              "solidity": 0.2
             }
            },
            "type": "barpolar"
           }
          ],
          "carpet": [
           {
            "aaxis": {
             "endlinecolor": "#2a3f5f",
             "gridcolor": "white",
             "linecolor": "white",
             "minorgridcolor": "white",
             "startlinecolor": "#2a3f5f"
            },
            "baxis": {
             "endlinecolor": "#2a3f5f",
             "gridcolor": "white",
             "linecolor": "white",
             "minorgridcolor": "white",
             "startlinecolor": "#2a3f5f"
            },
            "type": "carpet"
           }
          ],
          "choropleth": [
           {
            "colorbar": {
             "outlinewidth": 0,
             "ticks": ""
            },
            "type": "choropleth"
           }
          ],
          "contour": [
           {
            "colorbar": {
             "outlinewidth": 0,
             "ticks": ""
            },
            "colorscale": [
             [
              0,
              "#0d0887"
             ],
             [
              0.1111111111111111,
              "#46039f"
             ],
             [
              0.2222222222222222,
              "#7201a8"
             ],
             [
              0.3333333333333333,
              "#9c179e"
             ],
             [
              0.4444444444444444,
              "#bd3786"
             ],
             [
              0.5555555555555556,
              "#d8576b"
             ],
             [
              0.6666666666666666,
              "#ed7953"
             ],
             [
              0.7777777777777778,
              "#fb9f3a"
             ],
             [
              0.8888888888888888,
              "#fdca26"
             ],
             [
              1,
              "#f0f921"
             ]
            ],
            "type": "contour"
           }
          ],
          "contourcarpet": [
           {
            "colorbar": {
             "outlinewidth": 0,
             "ticks": ""
            },
            "type": "contourcarpet"
           }
          ],
          "heatmap": [
           {
            "colorbar": {
             "outlinewidth": 0,
             "ticks": ""
            },
            "colorscale": [
             [
              0,
              "#0d0887"
             ],
             [
              0.1111111111111111,
              "#46039f"
             ],
             [
              0.2222222222222222,
              "#7201a8"
             ],
             [
              0.3333333333333333,
              "#9c179e"
             ],
             [
              0.4444444444444444,
              "#bd3786"
             ],
             [
              0.5555555555555556,
              "#d8576b"
             ],
             [
              0.6666666666666666,
              "#ed7953"
             ],
             [
              0.7777777777777778,
              "#fb9f3a"
             ],
             [
              0.8888888888888888,
              "#fdca26"
             ],
             [
              1,
              "#f0f921"
             ]
            ],
            "type": "heatmap"
           }
          ],
          "histogram": [
           {
            "marker": {
             "pattern": {
              "fillmode": "overlay",
              "size": 10,
              "solidity": 0.2
             }
            },
            "type": "histogram"
           }
          ],
          "histogram2d": [
           {
            "colorbar": {
             "outlinewidth": 0,
             "ticks": ""
            },
            "colorscale": [
             [
              0,
              "#0d0887"
             ],
             [
              0.1111111111111111,
              "#46039f"
             ],
             [
              0.2222222222222222,
              "#7201a8"
             ],
             [
              0.3333333333333333,
              "#9c179e"
             ],
             [
              0.4444444444444444,
              "#bd3786"
             ],
             [
              0.5555555555555556,
              "#d8576b"
             ],
             [
              0.6666666666666666,
              "#ed7953"
             ],
             [
              0.7777777777777778,
              "#fb9f3a"
             ],
             [
              0.8888888888888888,
              "#fdca26"
             ],
             [
              1,
              "#f0f921"
             ]
            ],
            "type": "histogram2d"
           }
          ],
          "histogram2dcontour": [
           {
            "colorbar": {
             "outlinewidth": 0,
             "ticks": ""
            },
            "colorscale": [
             [
              0,
              "#0d0887"
             ],
             [
              0.1111111111111111,
              "#46039f"
             ],
             [
              0.2222222222222222,
              "#7201a8"
             ],
             [
              0.3333333333333333,
              "#9c179e"
             ],
             [
              0.4444444444444444,
              "#bd3786"
             ],
             [
              0.5555555555555556,
              "#d8576b"
             ],
             [
              0.6666666666666666,
              "#ed7953"
             ],
             [
              0.7777777777777778,
              "#fb9f3a"
             ],
             [
              0.8888888888888888,
              "#fdca26"
             ],
             [
              1,
              "#f0f921"
             ]
            ],
            "type": "histogram2dcontour"
           }
          ],
          "mesh3d": [
           {
            "colorbar": {
             "outlinewidth": 0,
             "ticks": ""
            },
            "type": "mesh3d"
           }
          ],
          "parcoords": [
           {
            "line": {
             "colorbar": {
              "outlinewidth": 0,
              "ticks": ""
             }
            },
            "type": "parcoords"
           }
          ],
          "pie": [
           {
            "automargin": true,
            "type": "pie"
           }
          ],
          "scatter": [
           {
            "fillpattern": {
             "fillmode": "overlay",
             "size": 10,
             "solidity": 0.2
            },
            "type": "scatter"
           }
          ],
          "scatter3d": [
           {
            "line": {
             "colorbar": {
              "outlinewidth": 0,
              "ticks": ""
             }
            },
            "marker": {
             "colorbar": {
              "outlinewidth": 0,
              "ticks": ""
             }
            },
            "type": "scatter3d"
           }
          ],
          "scattercarpet": [
           {
            "marker": {
             "colorbar": {
              "outlinewidth": 0,
              "ticks": ""
             }
            },
            "type": "scattercarpet"
           }
          ],
          "scattergeo": [
           {
            "marker": {
             "colorbar": {
              "outlinewidth": 0,
              "ticks": ""
             }
            },
            "type": "scattergeo"
           }
          ],
          "scattergl": [
           {
            "marker": {
             "colorbar": {
              "outlinewidth": 0,
              "ticks": ""
             }
            },
            "type": "scattergl"
           }
          ],
          "scattermap": [
           {
            "marker": {
             "colorbar": {
              "outlinewidth": 0,
              "ticks": ""
             }
            },
            "type": "scattermap"
           }
          ],
          "scattermapbox": [
           {
            "marker": {
             "colorbar": {
              "outlinewidth": 0,
              "ticks": ""
             }
            },
            "type": "scattermapbox"
           }
          ],
          "scatterpolar": [
           {
            "marker": {
             "colorbar": {
              "outlinewidth": 0,
              "ticks": ""
             }
            },
            "type": "scatterpolar"
           }
          ],
          "scatterpolargl": [
           {
            "marker": {
             "colorbar": {
              "outlinewidth": 0,
              "ticks": ""
             }
            },
            "type": "scatterpolargl"
           }
          ],
          "scatterternary": [
           {
            "marker": {
             "colorbar": {
              "outlinewidth": 0,
              "ticks": ""
             }
            },
            "type": "scatterternary"
           }
          ],
          "surface": [
           {
            "colorbar": {
             "outlinewidth": 0,
             "ticks": ""
            },
            "colorscale": [
             [
              0,
              "#0d0887"
             ],
             [
              0.1111111111111111,
              "#46039f"
             ],
             [
              0.2222222222222222,
              "#7201a8"
             ],
             [
              0.3333333333333333,
              "#9c179e"
             ],
             [
              0.4444444444444444,
              "#bd3786"
             ],
             [
              0.5555555555555556,
              "#d8576b"
             ],
             [
              0.6666666666666666,
              "#ed7953"
             ],
             [
              0.7777777777777778,
              "#fb9f3a"
             ],
             [
              0.8888888888888888,
              "#fdca26"
             ],
             [
              1,
              "#f0f921"
             ]
            ],
            "type": "surface"
           }
          ],
          "table": [
           {
            "cells": {
             "fill": {
              "color": "#EBF0F8"
             },
             "line": {
              "color": "white"
             }
            },
            "header": {
             "fill": {
              "color": "#C8D4E3"
             },
             "line": {
              "color": "white"
             }
            },
            "type": "table"
           }
          ]
         },
         "layout": {
          "annotationdefaults": {
           "arrowcolor": "#2a3f5f",
           "arrowhead": 0,
           "arrowwidth": 1
          },
          "autotypenumbers": "strict",
          "coloraxis": {
           "colorbar": {
            "outlinewidth": 0,
            "ticks": ""
           }
          },
          "colorscale": {
           "diverging": [
            [
             0,
             "#8e0152"
            ],
            [
             0.1,
             "#c51b7d"
            ],
            [
             0.2,
             "#de77ae"
            ],
            [
             0.3,
             "#f1b6da"
            ],
            [
             0.4,
             "#fde0ef"
            ],
            [
             0.5,
             "#f7f7f7"
            ],
            [
             0.6,
             "#e6f5d0"
            ],
            [
             0.7,
             "#b8e186"
            ],
            [
             0.8,
             "#7fbc41"
            ],
            [
             0.9,
             "#4d9221"
            ],
            [
             1,
             "#276419"
            ]
           ],
           "sequential": [
            [
             0,
             "#0d0887"
            ],
            [
             0.1111111111111111,
             "#46039f"
            ],
            [
             0.2222222222222222,
             "#7201a8"
            ],
            [
             0.3333333333333333,
             "#9c179e"
            ],
            [
             0.4444444444444444,
             "#bd3786"
            ],
            [
             0.5555555555555556,
             "#d8576b"
            ],
            [
             0.6666666666666666,
             "#ed7953"
            ],
            [
             0.7777777777777778,
             "#fb9f3a"
            ],
            [
             0.8888888888888888,
             "#fdca26"
            ],
            [
             1,
             "#f0f921"
            ]
           ],
           "sequentialminus": [
            [
             0,
             "#0d0887"
            ],
            [
             0.1111111111111111,
             "#46039f"
            ],
            [
             0.2222222222222222,
             "#7201a8"
            ],
            [
             0.3333333333333333,
             "#9c179e"
            ],
            [
             0.4444444444444444,
             "#bd3786"
            ],
            [
             0.5555555555555556,
             "#d8576b"
            ],
            [
             0.6666666666666666,
             "#ed7953"
            ],
            [
             0.7777777777777778,
             "#fb9f3a"
            ],
            [
             0.8888888888888888,
             "#fdca26"
            ],
            [
             1,
             "#f0f921"
            ]
           ]
          },
          "colorway": [
           "#636efa",
           "#EF553B",
           "#00cc96",
           "#ab63fa",
           "#FFA15A",
           "#19d3f3",
           "#FF6692",
           "#B6E880",
           "#FF97FF",
           "#FECB52"
          ],
          "font": {
           "color": "#2a3f5f"
          },
          "geo": {
           "bgcolor": "white",
           "lakecolor": "white",
           "landcolor": "#E5ECF6",
           "showlakes": true,
           "showland": true,
           "subunitcolor": "white"
          },
          "hoverlabel": {
           "align": "left"
          },
          "hovermode": "closest",
          "mapbox": {
           "style": "light"
          },
          "paper_bgcolor": "white",
          "plot_bgcolor": "#E5ECF6",
          "polar": {
           "angularaxis": {
            "gridcolor": "white",
            "linecolor": "white",
            "ticks": ""
           },
           "bgcolor": "#E5ECF6",
           "radialaxis": {
            "gridcolor": "white",
            "linecolor": "white",
            "ticks": ""
           }
          },
          "scene": {
           "xaxis": {
            "backgroundcolor": "#E5ECF6",
            "gridcolor": "white",
            "gridwidth": 2,
            "linecolor": "white",
            "showbackground": true,
            "ticks": "",
            "zerolinecolor": "white"
           },
           "yaxis": {
            "backgroundcolor": "#E5ECF6",
            "gridcolor": "white",
            "gridwidth": 2,
            "linecolor": "white",
            "showbackground": true,
            "ticks": "",
            "zerolinecolor": "white"
           },
           "zaxis": {
            "backgroundcolor": "#E5ECF6",
            "gridcolor": "white",
            "gridwidth": 2,
            "linecolor": "white",
            "showbackground": true,
            "ticks": "",
            "zerolinecolor": "white"
           }
          },
          "shapedefaults": {
           "line": {
            "color": "#2a3f5f"
           }
          },
          "ternary": {
           "aaxis": {
            "gridcolor": "white",
            "linecolor": "white",
            "ticks": ""
           },
           "baxis": {
            "gridcolor": "white",
            "linecolor": "white",
            "ticks": ""
           },
           "bgcolor": "#E5ECF6",
           "caxis": {
            "gridcolor": "white",
            "linecolor": "white",
            "ticks": ""
           }
          },
          "title": {
           "x": 0.05
          },
          "xaxis": {
           "automargin": true,
           "gridcolor": "white",
           "linecolor": "white",
           "ticks": "",
           "title": {
            "standoff": 15
           },
           "zerolinecolor": "white",
           "zerolinewidth": 2
          },
          "yaxis": {
           "automargin": true,
           "gridcolor": "white",
           "linecolor": "white",
           "ticks": "",
           "title": {
            "standoff": 15
           },
           "zerolinecolor": "white",
           "zerolinewidth": 2
          }
         }
        }
       }
      }
     },
     "metadata": {},
     "output_type": "display_data"
    }
   ],
   "source": [
    "# plot results with plotly\n",
    "import plotly.express as px\n",
    "fig = px.scatter_3d(X_tsne, x=0, y=1, z=2, color=y)\n",
    "fig.show()"
   ]
  }
 ],
 "metadata": {
  "kernelspec": {
   "display_name": ".venv",
   "language": "python",
   "name": "python3"
  },
  "language_info": {
   "codemirror_mode": {
    "name": "ipython",
    "version": 3
   },
   "file_extension": ".py",
   "mimetype": "text/x-python",
   "name": "python",
   "nbconvert_exporter": "python",
   "pygments_lexer": "ipython3",
   "version": "3.12.10"
  }
 },
 "nbformat": 4,
 "nbformat_minor": 5
}
