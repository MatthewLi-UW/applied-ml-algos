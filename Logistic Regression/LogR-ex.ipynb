{
 "cells": [
  {
   "cell_type": "markdown",
   "id": "12bae083",
   "metadata": {},
   "source": [
    "Predict whether passengers survive"
   ]
  },
  {
   "cell_type": "code",
   "execution_count": null,
   "id": "4c18c80a",
   "metadata": {},
   "outputs": [],
   "source": [
    "import pandas as pd\n",
    "# load data\n",
    "df = pd.read_excel(\"../Data/titanic3.xls\")\n",
    "df"
   ]
  },
  {
   "cell_type": "code",
   "execution_count": null,
   "id": "b1d4d393",
   "metadata": {},
   "outputs": [],
   "source": [
    "from sklearn.linear_model import LogisticRegression\n",
    "\n",
    "df_X = (df.loc[:, [\"pclass\", \"age\", \"sibsp\", \"parch\", \"fare\"]]\n",
    "        .dropna())\n",
    "\n",
    "# standardize the data\n",
    "from sklearn.preprocessing import StandardScaler\n",
    "from sklearn import set_config\n",
    "set_config(transform_output=\"pandas\")\n",
    "scaler = StandardScaler()\n",
    "X = scaler.fit_transform(df_X)\n",
    "X"
   ]
  },
  {
   "cell_type": "code",
   "execution_count": 9,
   "id": "84b988c0",
   "metadata": {},
   "outputs": [],
   "source": [
    "from sklearn.model_selection import train_test_split\n",
    "\n",
    "# split data\n",
    "y = df.loc[X.index, \"survived\"]\n",
    "\n",
    "X_train, X_test, y_train, y_test = train_test_split(X, y, random_state=42)"
   ]
  },
  {
   "cell_type": "code",
   "execution_count": null,
   "id": "b1e96c31",
   "metadata": {},
   "outputs": [],
   "source": [
    "lr = LogisticRegression()\n",
    "lr.fit(X_train, y_train)\n",
    "lr.score(X_test, y_test)"
   ]
  }
 ],
 "metadata": {
  "kernelspec": {
   "display_name": ".venv",
   "language": "python",
   "name": "python3"
  },
  "language_info": {
   "codemirror_mode": {
    "name": "ipython",
    "version": 3
   },
   "file_extension": ".py",
   "mimetype": "text/x-python",
   "name": "python",
   "nbconvert_exporter": "python",
   "pygments_lexer": "ipython3",
   "version": "3.12.10"
  }
 },
 "nbformat": 4,
 "nbformat_minor": 5
}
