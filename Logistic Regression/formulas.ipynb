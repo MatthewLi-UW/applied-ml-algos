{
 "cells": [
  {
   "cell_type": "markdown",
   "id": "2821282b",
   "metadata": {},
   "source": [
    "<math xmlns=\"http://www.w3.org/1998/Math/MathML\" display=\"block\">\n",
    "  <mi>y</mi>\n",
    "  <mo>=</mo>\n",
    "  <mfrac>\n",
    "    <mn>1</mn>\n",
    "    <mrow>\n",
    "      <mn>1</mn>\n",
    "      <mo>+</mo>\n",
    "      <msup>\n",
    "        <mi>e</mi>\n",
    "        <mrow data-mjx-texclass=\"ORD\">\n",
    "          <mo>&#x2212;</mo>\n",
    "          <mi>z</mi>\n",
    "        </mrow>\n",
    "      </msup>\n",
    "    </mrow>\n",
    "  </mfrac>\n",
    "</math>"
   ]
  }
 ],
 "metadata": {
  "language_info": {
   "name": "python"
  }
 },
 "nbformat": 4,
 "nbformat_minor": 5
}
