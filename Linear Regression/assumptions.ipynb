{
 "cells": [
  {
   "cell_type": "markdown",
   "id": "6e7e6418",
   "metadata": {},
   "source": [
    "Linear relationship between the features and target variable\n",
    "\n",
    "No multicollinearity - no correlation between the features\n",
    "\n",
    "Homoscedasticity - the variance of the residuals is the same for all values of the target variable\n",
    "\n",
    "No outliers - the residuals are normally distributed"
   ]
  }
 ],
 "metadata": {
  "language_info": {
   "name": "python"
  }
 },
 "nbformat": 4,
 "nbformat_minor": 5
}
