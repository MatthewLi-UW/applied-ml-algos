{
 "cells": [
  {
   "cell_type": "code",
   "execution_count": 17,
   "id": "3d8e7dd5",
   "metadata": {},
   "outputs": [],
   "source": [
    "import pandas as pd"
   ]
  },
  {
   "cell_type": "code",
   "execution_count": null,
   "id": "7f278a83",
   "metadata": {},
   "outputs": [],
   "source": [
    "df = pd.read_excel(\"../Data/titanic3.xls\")\n",
    "\n",
    "def clean_data(dataframe):\n",
    "    return (dataframe\n",
    "            .loc[:, ['pclass', 'age', 'sibsp', 'parch', 'fare']]\n",
    "            .dropna()\n",
    "            )\n",
    "clean_data(df)\n"
   ]
  },
  {
   "cell_type": "code",
   "execution_count": null,
   "id": "95bfd9e3",
   "metadata": {},
   "outputs": [],
   "source": [
    "# standardize the data\n",
    "from sklearn.preprocessing import StandardScaler\n",
    "from sklearn import set_config\n",
    "set_config(transform_output='pandas')\n",
    "scaler = StandardScaler()\n",
    "X = scaler.fit_transform(clean_data(df))\n",
    "X"
   ]
  },
  {
   "cell_type": "code",
   "execution_count": null,
   "id": "f42e80e6",
   "metadata": {},
   "outputs": [],
   "source": [
    "# run pca\n",
    "from sklearn.decomposition import PCA\n",
    "\n",
    "pca = PCA()\n",
    "X_pca = pca.fit_transform(X)\n",
    "X_pca"
   ]
  },
  {
   "cell_type": "code",
   "execution_count": 21,
   "id": "96bab129",
   "metadata": {},
   "outputs": [
    {
     "data": {
      "application/vnd.plotly.v1+json": {
       "config": {
        "plotlyServerURL": "https://plot.ly"
       },
       "data": [
        {
         "hovertemplate": "pca0=%{x}<br>pca1=%{y}<br>pca2=%{z}<br>color=%{marker.color}<extra></extra>",
         "legendgroup": "",
         "marker": {
          "color": {
           "bdata": "AQEAAAABAQABAAABAQEBAAEBAAEBAQEBAAEBAQEAAQEBAAEBAAABAQEBAAEBAQEAAAABAQEBAAABAAEBAQEBAQABAQABAAEBAAEBAAEBAQEAAQEBAQEBAAEBAQEAAQEBAAEAAQEBAAABAQEBAQEBAAEAAQEBAAEAAQEAAQEBAAEBAQEAAQABAQABAAABAQEAAQEBAQEAAQAAAAAAAQEBAQEBAAEBAQABAAEBAAEAAQEAAAEAAAABAQEAAAABAQABAAEBAAAAAAABAAEBAQABAAABAAEBAAABAAEAAQEBAAEBAQEBAQEAAQEBAAAAAQEBAQEBAAEAAQEBAQAAAAEBAAEBAAEBAQAAAAEAAQAAAAEBAAEAAAEBAAEBAAEAAQAAAAABAAAAAQAAAQEAAQEBAQEBAAAAAAEBAAEBAAEAAAEBAQEBAAAAAAAAAQEAAQAAAQEAAQEAAAEAAQEAAAABAAABAQABAAEBAQAAAAABAAAAAAAAAQAAAAAAAAAAAAAAAQEAAQABAAEAAQEBAAEBAAAAAAEAAAEAAAEAAQAAAAEAAQAAAAABAAEAAAEAAAAAAQEAAQEBAAAAAAEAAQABAAAAAAABAQEAAAAAAAAAAAABAQEAAAAAAQEAAQABAAEAAAEBAAEAAQABAQEAAAEBAAEBAQEAAQAAAAEBAQEAAQABAAAAAAABAAEBAAAAAQAAAQEBAQABAQEBAQEAAQABAQAAAAABAQEBAQAAAAEBAQAAAAAAAAABAAAAAQAAAAABAAAAAAAAAAAAAAEAAQABAQEAAAAAAAEAAAEBAQEBAQAAAQAAAAAAAAAAAQAAAAAAAAAAAQAAAAAAAAEAAAAAAAAAAAAAAAAAAQAAAAABAAAAAAEAAAAAAAEAAAAAAAAAAQEBAAABAAAAAQAAAQEAAAAAAAAAAAABAQEAAQEAAQAAAAEAAAAAAQEAAQAAAQABAAAAAAAAAAEAAAAAAAAAAAAAAAEBAAABAAAAAAAAAAAAAAAAAAAAAAAAAQAAAAAAAQAAAQABAAEAAAEBAAABAAAAAAEBAAAAAAEAAAAAAQEAAAABAAEAAAABAAAAAQAAAQEAAAAAAAEBAQAAAAEAAQEAAAABAAAAAAAAAAAAAQAAAAABAAEBAQAAAAAAAQAAAAABAAAAAAEBAAEAAAEBAQEAAQEAAAEBAAABAAABAAABAQAAAAABAAAAAAABAAAAAAAAAAAAAAAAAAAAAAAAAAABAAAAAAABAAAAAAAAAAAAAAAAAAAAAAAAAAAAAAABAAEBAQEAAAEAAAABAAAAAAAAAAAAAAEAAAABAAAAAQEAAAEAAQABAQAAAAEBAQEAAQEAAAAAAAAAAAAAAAAAAQAAAAAAAQAAAAEAAAAAAAEAAAAAAA==",
           "dtype": "i1"
          },
          "coloraxis": "coloraxis",
          "symbol": "circle"
         },
         "mode": "markers",
         "name": "",
         "scene": "scene",
         "showlegend": false,
         "type": "scatter3d",
         "x": {
          "bdata": "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",
          "dtype": "f8"
         },
         "y": {
          "bdata": "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",
          "dtype": "f8"
         },
         "z": {
          "bdata": "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",
          "dtype": "f8"
         }
        }
       ],
       "layout": {
        "coloraxis": {
         "colorbar": {
          "title": {
           "text": "color"
          }
         },
         "colorscale": [
          [
           0,
           "#0d0887"
          ],
          [
           0.1111111111111111,
           "#46039f"
          ],
          [
           0.2222222222222222,
           "#7201a8"
          ],
          [
           0.3333333333333333,
           "#9c179e"
          ],
          [
           0.4444444444444444,
           "#bd3786"
          ],
          [
           0.5555555555555556,
           "#d8576b"
          ],
          [
           0.6666666666666666,
           "#ed7953"
          ],
          [
           0.7777777777777778,
           "#fb9f3a"
          ],
          [
           0.8888888888888888,
           "#fdca26"
          ],
          [
           1,
           "#f0f921"
          ]
         ]
        },
        "legend": {
         "tracegroupgap": 0
        },
        "margin": {
         "t": 60
        },
        "scene": {
         "domain": {
          "x": [
           0,
           1
          ],
          "y": [
           0,
           1
          ]
         },
         "xaxis": {
          "title": {
           "text": "pca0"
          }
         },
         "yaxis": {
          "title": {
           "text": "pca1"
          }
         },
         "zaxis": {
          "title": {
           "text": "pca2"
          }
         }
        },
        "template": {
         "data": {
          "bar": [
           {
            "error_x": {
             "color": "#2a3f5f"
            },
            "error_y": {
             "color": "#2a3f5f"
            },
            "marker": {
             "line": {
              "color": "#E5ECF6",
              "width": 0.5
             },
             "pattern": {
              "fillmode": "overlay",
              "size": 10,
              "solidity": 0.2
             }
            },
            "type": "bar"
           }
          ],
          "barpolar": [
           {
            "marker": {
             "line": {
              "color": "#E5ECF6",
              "width": 0.5
             },
             "pattern": {
              "fillmode": "overlay",
              "size": 10,
              "solidity": 0.2
             }
            },
            "type": "barpolar"
           }
          ],
          "carpet": [
           {
            "aaxis": {
             "endlinecolor": "#2a3f5f",
             "gridcolor": "white",
             "linecolor": "white",
             "minorgridcolor": "white",
             "startlinecolor": "#2a3f5f"
            },
            "baxis": {
             "endlinecolor": "#2a3f5f",
             "gridcolor": "white",
             "linecolor": "white",
             "minorgridcolor": "white",
             "startlinecolor": "#2a3f5f"
            },
            "type": "carpet"
           }
          ],
          "choropleth": [
           {
            "colorbar": {
             "outlinewidth": 0,
             "ticks": ""
            },
            "type": "choropleth"
           }
          ],
          "contour": [
           {
            "colorbar": {
             "outlinewidth": 0,
             "ticks": ""
            },
            "colorscale": [
             [
              0,
              "#0d0887"
             ],
             [
              0.1111111111111111,
              "#46039f"
             ],
             [
              0.2222222222222222,
              "#7201a8"
             ],
             [
              0.3333333333333333,
              "#9c179e"
             ],
             [
              0.4444444444444444,
              "#bd3786"
             ],
             [
              0.5555555555555556,
              "#d8576b"
             ],
             [
              0.6666666666666666,
              "#ed7953"
             ],
             [
              0.7777777777777778,
              "#fb9f3a"
             ],
             [
              0.8888888888888888,
              "#fdca26"
             ],
             [
              1,
              "#f0f921"
             ]
            ],
            "type": "contour"
           }
          ],
          "contourcarpet": [
           {
            "colorbar": {
             "outlinewidth": 0,
             "ticks": ""
            },
            "type": "contourcarpet"
           }
          ],
          "heatmap": [
           {
            "colorbar": {
             "outlinewidth": 0,
             "ticks": ""
            },
            "colorscale": [
             [
              0,
              "#0d0887"
             ],
             [
              0.1111111111111111,
              "#46039f"
             ],
             [
              0.2222222222222222,
              "#7201a8"
             ],
             [
              0.3333333333333333,
              "#9c179e"
             ],
             [
              0.4444444444444444,
              "#bd3786"
             ],
             [
              0.5555555555555556,
              "#d8576b"
             ],
             [
              0.6666666666666666,
              "#ed7953"
             ],
             [
              0.7777777777777778,
              "#fb9f3a"
             ],
             [
              0.8888888888888888,
              "#fdca26"
             ],
             [
              1,
              "#f0f921"
             ]
            ],
            "type": "heatmap"
           }
          ],
          "histogram": [
           {
            "marker": {
             "pattern": {
              "fillmode": "overlay",
              "size": 10,
              "solidity": 0.2
             }
            },
            "type": "histogram"
           }
          ],
          "histogram2d": [
           {
            "colorbar": {
             "outlinewidth": 0,
             "ticks": ""
            },
            "colorscale": [
             [
              0,
              "#0d0887"
             ],
             [
              0.1111111111111111,
              "#46039f"
             ],
             [
              0.2222222222222222,
              "#7201a8"
             ],
             [
              0.3333333333333333,
              "#9c179e"
             ],
             [
              0.4444444444444444,
              "#bd3786"
             ],
             [
              0.5555555555555556,
              "#d8576b"
             ],
             [
              0.6666666666666666,
              "#ed7953"
             ],
             [
              0.7777777777777778,
              "#fb9f3a"
             ],
             [
              0.8888888888888888,
              "#fdca26"
             ],
             [
              1,
              "#f0f921"
             ]
            ],
            "type": "histogram2d"
           }
          ],
          "histogram2dcontour": [
           {
            "colorbar": {
             "outlinewidth": 0,
             "ticks": ""
            },
            "colorscale": [
             [
              0,
              "#0d0887"
             ],
             [
              0.1111111111111111,
              "#46039f"
             ],
             [
              0.2222222222222222,
              "#7201a8"
             ],
             [
              0.3333333333333333,
              "#9c179e"
             ],
             [
              0.4444444444444444,
              "#bd3786"
             ],
             [
              0.5555555555555556,
              "#d8576b"
             ],
             [
              0.6666666666666666,
              "#ed7953"
             ],
             [
              0.7777777777777778,
              "#fb9f3a"
             ],
             [
              0.8888888888888888,
              "#fdca26"
             ],
             [
              1,
              "#f0f921"
             ]
            ],
            "type": "histogram2dcontour"
           }
          ],
          "mesh3d": [
           {
            "colorbar": {
             "outlinewidth": 0,
             "ticks": ""
            },
            "type": "mesh3d"
           }
          ],
          "parcoords": [
           {
            "line": {
             "colorbar": {
              "outlinewidth": 0,
              "ticks": ""
             }
            },
            "type": "parcoords"
           }
          ],
          "pie": [
           {
            "automargin": true,
            "type": "pie"
           }
          ],
          "scatter": [
           {
            "fillpattern": {
             "fillmode": "overlay",
             "size": 10,
             "solidity": 0.2
            },
            "type": "scatter"
           }
          ],
          "scatter3d": [
           {
            "line": {
             "colorbar": {
              "outlinewidth": 0,
              "ticks": ""
             }
            },
            "marker": {
             "colorbar": {
              "outlinewidth": 0,
              "ticks": ""
             }
            },
            "type": "scatter3d"
           }
          ],
          "scattercarpet": [
           {
            "marker": {
             "colorbar": {
              "outlinewidth": 0,
              "ticks": ""
             }
            },
            "type": "scattercarpet"
           }
          ],
          "scattergeo": [
           {
            "marker": {
             "colorbar": {
              "outlinewidth": 0,
              "ticks": ""
             }
            },
            "type": "scattergeo"
           }
          ],
          "scattergl": [
           {
            "marker": {
             "colorbar": {
              "outlinewidth": 0,
              "ticks": ""
             }
            },
            "type": "scattergl"
           }
          ],
          "scattermap": [
           {
            "marker": {
             "colorbar": {
              "outlinewidth": 0,
              "ticks": ""
             }
            },
            "type": "scattermap"
           }
          ],
          "scattermapbox": [
           {
            "marker": {
             "colorbar": {
              "outlinewidth": 0,
              "ticks": ""
             }
            },
            "type": "scattermapbox"
           }
          ],
          "scatterpolar": [
           {
            "marker": {
             "colorbar": {
              "outlinewidth": 0,
              "ticks": ""
             }
            },
            "type": "scatterpolar"
           }
          ],
          "scatterpolargl": [
           {
            "marker": {
             "colorbar": {
              "outlinewidth": 0,
              "ticks": ""
             }
            },
            "type": "scatterpolargl"
           }
          ],
          "scatterternary": [
           {
            "marker": {
             "colorbar": {
              "outlinewidth": 0,
              "ticks": ""
             }
            },
            "type": "scatterternary"
           }
          ],
          "surface": [
           {
            "colorbar": {
             "outlinewidth": 0,
             "ticks": ""
            },
            "colorscale": [
             [
              0,
              "#0d0887"
             ],
             [
              0.1111111111111111,
              "#46039f"
             ],
             [
              0.2222222222222222,
              "#7201a8"
             ],
             [
              0.3333333333333333,
              "#9c179e"
             ],
             [
              0.4444444444444444,
              "#bd3786"
             ],
             [
              0.5555555555555556,
              "#d8576b"
             ],
             [
              0.6666666666666666,
              "#ed7953"
             ],
             [
              0.7777777777777778,
              "#fb9f3a"
             ],
             [
              0.8888888888888888,
              "#fdca26"
             ],
             [
              1,
              "#f0f921"
             ]
            ],
            "type": "surface"
           }
          ],
          "table": [
           {
            "cells": {
             "fill": {
              "color": "#EBF0F8"
             },
             "line": {
              "color": "white"
             }
            },
            "header": {
             "fill": {
              "color": "#C8D4E3"
             },
             "line": {
              "color": "white"
             }
            },
            "type": "table"
           }
          ]
         },
         "layout": {
          "annotationdefaults": {
           "arrowcolor": "#2a3f5f",
           "arrowhead": 0,
           "arrowwidth": 1
          },
          "autotypenumbers": "strict",
          "coloraxis": {
           "colorbar": {
            "outlinewidth": 0,
            "ticks": ""
           }
          },
          "colorscale": {
           "diverging": [
            [
             0,
             "#8e0152"
            ],
            [
             0.1,
             "#c51b7d"
            ],
            [
             0.2,
             "#de77ae"
            ],
            [
             0.3,
             "#f1b6da"
            ],
            [
             0.4,
             "#fde0ef"
            ],
            [
             0.5,
             "#f7f7f7"
            ],
            [
             0.6,
             "#e6f5d0"
            ],
            [
             0.7,
             "#b8e186"
            ],
            [
             0.8,
             "#7fbc41"
            ],
            [
             0.9,
             "#4d9221"
            ],
            [
             1,
             "#276419"
            ]
           ],
           "sequential": [
            [
             0,
             "#0d0887"
            ],
            [
             0.1111111111111111,
             "#46039f"
            ],
            [
             0.2222222222222222,
             "#7201a8"
            ],
            [
             0.3333333333333333,
             "#9c179e"
            ],
            [
             0.4444444444444444,
             "#bd3786"
            ],
            [
             0.5555555555555556,
             "#d8576b"
            ],
            [
             0.6666666666666666,
             "#ed7953"
            ],
            [
             0.7777777777777778,
             "#fb9f3a"
            ],
            [
             0.8888888888888888,
             "#fdca26"
            ],
            [
             1,
             "#f0f921"
            ]
           ],
           "sequentialminus": [
            [
             0,
             "#0d0887"
            ],
            [
             0.1111111111111111,
             "#46039f"
            ],
            [
             0.2222222222222222,
             "#7201a8"
            ],
            [
             0.3333333333333333,
             "#9c179e"
            ],
            [
             0.4444444444444444,
             "#bd3786"
            ],
            [
             0.5555555555555556,
             "#d8576b"
            ],
            [
             0.6666666666666666,
             "#ed7953"
            ],
            [
             0.7777777777777778,
             "#fb9f3a"
            ],
            [
             0.8888888888888888,
             "#fdca26"
            ],
            [
             1,
             "#f0f921"
            ]
           ]
          },
          "colorway": [
           "#636efa",
           "#EF553B",
           "#00cc96",
           "#ab63fa",
           "#FFA15A",
           "#19d3f3",
           "#FF6692",
           "#B6E880",
           "#FF97FF",
           "#FECB52"
          ],
          "font": {
           "color": "#2a3f5f"
          },
          "geo": {
           "bgcolor": "white",
           "lakecolor": "white",
           "landcolor": "#E5ECF6",
           "showlakes": true,
           "showland": true,
           "subunitcolor": "white"
          },
          "hoverlabel": {
           "align": "left"
          },
          "hovermode": "closest",
          "mapbox": {
           "style": "light"
          },
          "paper_bgcolor": "white",
          "plot_bgcolor": "#E5ECF6",
          "polar": {
           "angularaxis": {
            "gridcolor": "white",
            "linecolor": "white",
            "ticks": ""
           },
           "bgcolor": "#E5ECF6",
           "radialaxis": {
            "gridcolor": "white",
            "linecolor": "white",
            "ticks": ""
           }
          },
          "scene": {
           "xaxis": {
            "backgroundcolor": "#E5ECF6",
            "gridcolor": "white",
            "gridwidth": 2,
            "linecolor": "white",
            "showbackground": true,
            "ticks": "",
            "zerolinecolor": "white"
           },
           "yaxis": {
            "backgroundcolor": "#E5ECF6",
            "gridcolor": "white",
            "gridwidth": 2,
            "linecolor": "white",
            "showbackground": true,
            "ticks": "",
            "zerolinecolor": "white"
           },
           "zaxis": {
            "backgroundcolor": "#E5ECF6",
            "gridcolor": "white",
            "gridwidth": 2,
            "linecolor": "white",
            "showbackground": true,
            "ticks": "",
            "zerolinecolor": "white"
           }
          },
          "shapedefaults": {
           "line": {
            "color": "#2a3f5f"
           }
          },
          "ternary": {
           "aaxis": {
            "gridcolor": "white",
            "linecolor": "white",
            "ticks": ""
           },
           "baxis": {
            "gridcolor": "white",
            "linecolor": "white",
            "ticks": ""
           },
           "bgcolor": "#E5ECF6",
           "caxis": {
            "gridcolor": "white",
            "linecolor": "white",
            "ticks": ""
           }
          },
          "title": {
           "x": 0.05
          },
          "xaxis": {
           "automargin": true,
           "gridcolor": "white",
           "linecolor": "white",
           "ticks": "",
           "title": {
            "standoff": 15
           },
           "zerolinecolor": "white",
           "zerolinewidth": 2
          },
          "yaxis": {
           "automargin": true,
           "gridcolor": "white",
           "linecolor": "white",
           "ticks": "",
           "title": {
            "standoff": 15
           },
           "zerolinecolor": "white",
           "zerolinewidth": 2
          }
         }
        }
       }
      }
     },
     "metadata": {},
     "output_type": "display_data"
    }
   ],
   "source": [
    "# plot the first 3 components\n",
    "import plotly.express as px\n",
    "\n",
    "fig = px.scatter_3d(X_pca, x='pca0', y='pca1', z='pca2', color=df.loc[X_pca.index]['survived'])\n",
    "fig.show()"
   ]
  }
 ],
 "metadata": {
  "kernelspec": {
   "display_name": ".venv",
   "language": "python",
   "name": "python3"
  },
  "language_info": {
   "codemirror_mode": {
    "name": "ipython",
    "version": 3
   },
   "file_extension": ".py",
   "mimetype": "text/x-python",
   "name": "python",
   "nbconvert_exporter": "python",
   "pygments_lexer": "ipython3",
   "version": "3.12.10"
  }
 },
 "nbformat": 4,
 "nbformat_minor": 5
}
